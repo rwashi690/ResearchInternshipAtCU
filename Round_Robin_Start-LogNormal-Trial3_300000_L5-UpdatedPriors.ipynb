{
 "cells": [
  {
   "cell_type": "code",
   "execution_count": null,
   "id": "b31339ba",
   "metadata": {},
   "outputs": [],
   "source": [
    "using Pkg; Pkg.activate(\".\")\n",
    "using Random, Distributions, LinearAlgebra, Statistics\n",
    "using Plots, Plots.PlotMeasures, StatsPlots, LaTeXStrings\n",
    "using Zygote, Flux, Turing, MCMCChains, AdvancedMH, Optim, AdvancedHMC\n",
    "using DistributionsAD, AdvancedVI, Distributions\n",
    "using DiffEqFlux, DifferentialEquations, DiffEqCallbacks\n",
    "using LinearAlgebra, SymPy, StatsBase\n",
    "using AdaptiveMCMC, DataFrames, KernelDensity\n",
    "using CSV, Trapz, QuadGK, DelimitedFiles, Optim"
   ]
  },
  {
   "cell_type": "code",
   "execution_count": null,
   "id": "7371ef29",
   "metadata": {},
   "outputs": [],
   "source": [
    "times = readdlm(\"../mass-spring-dampers/experimental_data/k1m1h1/times.mat\", Float32)\n",
    "expTimes = vcat(times[1,1:end])\n",
    "filteredTimes = filter(x -> 0.01<=x<=0.5, expTimes)\n",
    "expTimes2 = filteredTimes"
   ]
  },
  {
   "cell_type": "code",
   "execution_count": null,
   "id": "54ec862e",
   "metadata": {},
   "outputs": [],
   "source": [
    "indices = findall(x -> 0.01 <= x <= 0.5, expTimes)"
   ]
  },
  {
   "cell_type": "code",
   "execution_count": null,
   "id": "39f76ea6",
   "metadata": {},
   "outputs": [],
   "source": [
    "#Defining Constants\n",
    "D = 0.0485\n",
    "Df = 0.001\n",
    "\n",
    "m=0.7853\n",
    "mf=9.33\n",
    "\n",
    "k = 25788\n",
    "b = 18.206\n",
    "g0 =26\n",
    "kf = 722.0\n",
    "bf = 0.176\n",
    "\n",
    "uInitial = [0.0003, 0.0005, 0.0, 0.0]\n",
    "u0=[0.0003, 0.0005, 0.0, 0.0]\n",
    "\n",
    "tspan = (expTimes2[1], expTimes2[end])\n",
    "storedTimes = expTimes2\n",
    "inadType=1\n",
    "\n",
    "params = [k,b,bf,g0,kf]\n",
    "pTrue = vcat(params,u0)"
   ]
  },
  {
   "cell_type": "code",
   "execution_count": null,
   "id": "4c8d2df9",
   "metadata": {},
   "outputs": [],
   "source": [
    "function lowFidelity(du,u,p,t)\n",
    "    k = p[1]\n",
    "    b = p[2]\n",
    "    bf = p[3]\n",
    "    g0 = p[4]\n",
    "    kf = p[5]\n",
    "\n",
    "    if inadType == 1 || inadType == 2\n",
    "        x = u[1:2]\n",
    "        v = u[3:4]\n",
    "        \n",
    "        du[1:2]=v\n",
    "        \n",
    "        du[3]=(1/m)*(-b*(v[1]-v[2])-g0*v[1]-k*(x[1]-x[2]))\n",
    "        du[4]=(1/mf)*(b*(v[1]-v[2])+k*(x[1]-x[2])-bf*v[2]-kf*x[2])\n",
    "    end\n",
    "    return du\n",
    "end"
   ]
  },
  {
   "cell_type": "code",
   "execution_count": null,
   "id": "da0b0fec",
   "metadata": {},
   "outputs": [],
   "source": [
    "function takeDerivs(p; fp=false)\n",
    "    vals = SavedValues(Float64, Vector{Float64})\n",
    "    cb = SavingCallback((u,t,integrator)->integrator(t,Val{1}), vals, saveat=storedTimes)\n",
    "    lowFidel = ODEProblem(lowFidelity, p[6:9],tspan,p)\n",
    "    sol = Array(solve(lowFidel,RadauIIA5(), u0=p[6:9], p=p,saveat=storedTimes, reltol=1e-4, abstol=1e-4, callback=cb))\n",
    "        \n",
    "    derivs = mapreduce(permutedims, vcat, vals.saveval)\n",
    "    \n",
    "    return sol, derivs\n",
    "end\n",
    "    "
   ]
  },
  {
   "cell_type": "code",
   "execution_count": null,
   "id": "4f178fac",
   "metadata": {},
   "outputs": [],
   "source": [
    "solution, derivatives = takeDerivs(pTrue)"
   ]
  },
  {
   "cell_type": "code",
   "execution_count": null,
   "id": "a5a0d3d1",
   "metadata": {},
   "outputs": [],
   "source": [
    "data_accm = readdlm(\"../mass-spring-dampers/experimental_data/k1m1h1/acc_output5.mat\", Float32)\n",
    "data_accm_pr = vcat(data_accm[1,1:end])\n",
    "data_accmf = readdlm(\"../mass-spring-dampers/experimental_data/k1m1h1/acc_w_output5.mat\", Float32)\n",
    "data_accmf_pr = vcat(data_accm[1,1:end])\n",
    "\n",
    "accm = data_accm_pr[104:2612, :]\n",
    "accf = data_accmf_pr[104:2612, :]"
   ]
  },
  {
   "cell_type": "code",
   "execution_count": null,
   "id": "a1f62765",
   "metadata": {},
   "outputs": [],
   "source": [
    "plot(storedTimes,accm)\n",
    "plot!(storedTimes, derivatives[:,3])\n",
    "xlims!(0,0.5)"
   ]
  },
  {
   "cell_type": "code",
   "execution_count": null,
   "id": "f95423bd",
   "metadata": {},
   "outputs": [],
   "source": [
    "acceleration=derivatives[:,3:4]\n",
    "velocity = derivatives[:,1:2]\n",
    "derivatives[:,3]"
   ]
  },
  {
   "cell_type": "code",
   "execution_count": null,
   "id": "a31290c6",
   "metadata": {},
   "outputs": [],
   "source": [
    "function getStateVectors(obs)\n",
    "    [obs[i, :] for i in 1:size(obs, 1)]\n",
    "end\n",
    "\n",
    "\n",
    "function vectorizeObservation(obs)\n",
    "    stateVecs = getStateVectors(obs)\n",
    "    stateVecsArray=collect(stateVecs)\n",
    "    reduce(vcat,stateVecsArray)\n",
    "end"
   ]
  },
  {
   "cell_type": "code",
   "execution_count": null,
   "id": "7dd4325c",
   "metadata": {},
   "outputs": [],
   "source": [
    "function log_normal_params(mean, sigma)\n",
    "    mu= log(mean) - (sigma^2 / 2)\n",
    "    return mu, sigma\n",
    "end"
   ]
  },
  {
   "cell_type": "code",
   "execution_count": null,
   "id": "afb4d325",
   "metadata": {},
   "outputs": [],
   "source": [
    "function priors(theta)\n",
    "    #Prior for the parameter\n",
    "    logPrior = 0\n",
    "    \n",
    "    #For model parameters without hyperparameters\n",
    "\n",
    "    if inadType ==1\n",
    "        #Model parameters\n",
    "        \n",
    "        μ_k, σ_k = log_normal_params(25788, 0.04)  #Prior for spring constant\n",
    "        μ_b, σ_b = log_normal_params(18.206, 0.05)  #Prior for passive damping\n",
    "        μ_bf, σ_bf = log_normal_params(0.176, 0.02) #Prior for passive damping of frame\n",
    "        μ_g0, σ_g0 = log_normal_params(26,0.02) #Prior for active damping\n",
    "        μ_kf, σ_kf = log_normal_params(722,0.07) #Prior for spring constant of frame\n",
    "        \n",
    "        k = LogNormal(μ_k, σ_k)\n",
    "        b = LogNormal(μ_b, σ_b)\n",
    "        bf = LogNormal(μ_bf, σ_bf)\n",
    "        g0 = LogNormal(μ_g0, σ_g0)\n",
    "        kf = LogNormal(μ_kf, σ_kf)\n",
    "        \n",
    "\n",
    "        u1 = Uniform(-0.5,0.5)\n",
    "        u2 = Uniform(-0.5,0.5)\n",
    "        u3 = Uniform(-0.5,0.5)\n",
    "        u4 = Uniform(-0.5,0.5)\n",
    "        \n",
    "        logPrior += logpdf(k, theta[1])\n",
    "        logPrior += logpdf(b,theta[2])\n",
    "        logPrior += logpdf(bf,theta[3])\n",
    "        logPrior += logpdf(g0,theta[4])\n",
    "        logPrior += logpdf(kf,theta[5])\n",
    "        logPrior += logpdf(u1, theta[6])\n",
    "        logPrior += logpdf(u2, theta[7])\n",
    "        logPrior += logpdf(u3, theta[8])\n",
    "        logPrior += logpdf(u4, theta[9])\n",
    "        \n",
    "    elseif inadType == 2\n",
    "        # Means of log-normal distributions\n",
    "        mu_k = Uniform(10000, 40000)\n",
    "        mu_b = Uniform(10, 50)\n",
    "        mu_bf = Uniform(0.1, 0.5)\n",
    "        mu_g0 = Uniform(10, 50)\n",
    "        mu_kf = Uniform(500, 1000)\n",
    "        \n",
    "        mu_x1 = Uniform(-0.5, 0.5)\n",
    "        mu_x2 = Uniform(-0.5, 0.5)\n",
    "        mu_v1 = Uniform(-0.5, 0.5)\n",
    "        mu_v2 = Uniform(-0.5, 0.5)\n",
    "        \n",
    "        # Standard deviations of log-normal distributions\n",
    "        lam = 0.01\n",
    "        \n",
    "#         sk=100\n",
    "#         sb=15\n",
    "#         sbf=5\n",
    "#         sg=10\n",
    "#         skf=20\n",
    "        sk=10\n",
    "        sb=10\n",
    "        sbf=10\n",
    "        sg=10\n",
    "        skf=10\n",
    "        \n",
    "        sigma_k = LogNormal(log(lam) - (sk^2 / 2), sk)\n",
    "        sigma_b = LogNormal(log(lam) - (sb^2 / 2), sb)\n",
    "        sigma_bf = LogNormal(log(lam) - (sbf^2 / 2), sbf)\n",
    "        sigma_g0 = LogNormal(log(lam) - (sg^2 / 2), sg)\n",
    "        sigma_kf = LogNormal(log(lam) - (skf^2 / 2), skf)\n",
    "        \n",
    "        sigma_x1 = Uniform(-0.5, 0.5)\n",
    "        sigma_x2 = Uniform(-0.5, 0.5)\n",
    "        sigma_v1 = Uniform(-0.5, 0.5)\n",
    "        sigma_v2 = Uniform(-0.5, 0.5)\n",
    "        \n",
    "        theta[19] = max(theta[19], lam)\n",
    "        theta[20] = max(theta[20], lam)\n",
    "        theta[21] = max(theta[21], lam)\n",
    "        theta[22] = max(theta[22], lam)\n",
    "        theta[23] = max(theta[23], lam)\n",
    "        theta[24] = max(theta[24], lam)\n",
    "        theta[25] = max(theta[25], lam)\n",
    "        theta[26] = max(theta[26], lam)\n",
    "        theta[27] = max(theta[27], lam)\n",
    "        \n",
    "        k = LogNormal(log(theta[19]) - (sk^2 / 2), sk)\n",
    "        b = LogNormal(log(theta[20]) - (sb^2 / 2), sb)\n",
    "        bf = LogNormal(log(theta[21]) - (sbf^2 / 2), sbf)\n",
    "        g0 = LogNormal(log(theta[22]) - (sg^2 / 2), sg)\n",
    "        kf = LogNormal(log(theta[23]) - (skf^2 / 2), skf)\n",
    "        \n",
    "        x1 = Uniform(-0.5, 0.5)\n",
    "        x2 = Uniform(-0.5, 0.5)\n",
    "        v1 = Uniform(-0.5, 0.5)\n",
    "        v2 = Uniform(-0.5, 0.5)\n",
    "        \n",
    "        logPrior += logpdf(k, theta[1])\n",
    "        logPrior += logpdf(b, theta[2])\n",
    "        logPrior += logpdf(bf, theta[3])\n",
    "        logPrior += logpdf(g0, theta[4])\n",
    "        logPrior += logpdf(kf, theta[5])\n",
    "        \n",
    "        logPrior += logpdf(x1, theta[6])\n",
    "        logPrior += logpdf(x2, theta[7])\n",
    "        logPrior += logpdf(v1, theta[8])\n",
    "        logPrior += logpdf(v2, theta[9])\n",
    "        \n",
    "        logPrior += logpdf(mu_k, theta[10])\n",
    "        logPrior += logpdf(mu_b, theta[11])\n",
    "        logPrior += logpdf(mu_bf, theta[12])\n",
    "        logPrior += logpdf(mu_g0, theta[13])\n",
    "        logPrior += logpdf(mu_kf, theta[14])\n",
    "        \n",
    "        logPrior += logpdf(mu_x1, theta[15])\n",
    "        logPrior += logpdf(mu_x2, theta[16])\n",
    "        logPrior += logpdf(mu_v1, theta[17])\n",
    "        logPrior += logpdf(mu_v2, theta[18])\n",
    "        \n",
    "        logPrior += logpdf(sigma_k, theta[19])\n",
    "        logPrior += logpdf(sigma_b, theta[20])\n",
    "        logPrior += logpdf(sigma_bf, theta[21])\n",
    "        logPrior += logpdf(sigma_g0, theta[22])\n",
    "        logPrior += logpdf(sigma_kf, theta[23])\n",
    "        \n",
    "        logPrior += logpdf(sigma_x1, theta[24])\n",
    "        logPrior += logpdf(sigma_x2, theta[25])\n",
    "        logPrior += logpdf(sigma_v1, theta[26])\n",
    "        logPrior += logpdf(sigma_v2, theta[27])\n",
    "    end\n",
    "    \n",
    "    return logPrior\n",
    "end\n",
    "    \n",
    "# function likelihood(p)\n",
    "#     solution, derivatives = takeDerivs(p)\n",
    "#     lowFidelData= derivatives[:,3]\n",
    "#     vectorized = vectorizeObservation(lowFidelData)\n",
    "#     MvNormal(vectorized, errorValue*I)\n",
    "# end\n",
    "\n",
    "# function logpost(p, obs)\n",
    "#     logpdf(likelihood(p),obs)+priors(p)\n",
    "# end\n",
    "\n",
    "\n",
    "function likelihood(p)\n",
    "    try\n",
    "        solution, derivatives = takeDerivs(p)\n",
    "        lowFidelData= derivatives[:,3]\n",
    "        vectorized = vectorizeObservation(lowFidelData)\n",
    "        if size(vectorized) == (2509,)\n",
    "            return MvNormal(vectorized, errorValue * I)\n",
    "        else\n",
    "            return nothing\n",
    "        end\n",
    "    catch e\n",
    "        if isa(e, DomainError) || isa(e, OverflowError) || isa(e, InexactError) || isa(e, FloatingPointError)\n",
    "            println(\"Floating-point error encountered. Skipping this iteration.\")\n",
    "            return nothing\n",
    "        else\n",
    "            rethrow(e)\n",
    "        end\n",
    "    end\n",
    "end\n",
    "\n",
    "function logpost(p, obs)\n",
    "    try\n",
    "        likelihood_result = likelihood(p)\n",
    "        if likelihood_result !== nothing\n",
    "            return logpdf(likelihood_result, obs) + priors(p)\n",
    "        else\n",
    "            return -Inf\n",
    "        end\n",
    "    catch e\n",
    "        println(\"Error in logpost: \", e)\n",
    "        return -Inf\n",
    "    end\n",
    "end\n",
    "\n",
    "function logpostp(p)\n",
    "    logpost(p,vectorizedData)\n",
    "end\n",
    "\n",
    "function neglogpostp(p)\n",
    "    -logpost(p,vectorizedData)\n",
    "end"
   ]
  },
  {
   "cell_type": "code",
   "execution_count": null,
   "id": "800c29ff",
   "metadata": {},
   "outputs": [],
   "source": [
    "D = 0.0485\n",
    "Df = 0.001\n",
    "\n",
    "m=0.7853\n",
    "mf=9.33\n",
    "\n",
    "k = 25788\n",
    "b = 18.206\n",
    "g0 =26\n",
    "kf = 722.0\n",
    "bf = 0.176\n",
    "\n",
    "#p0 = [k,b,bf,g0,kf,uInitial[1],uInitial[2],uInitial[3],uInitial[4],k,b,bf,g0,kf,uInitial[1],uInitial[2],uInitial[3],uInitial[4],0.5,0.5,0.5,0.5,0.5,0.5,0.5, 0.5,0.5]\n",
    "p0 = [k,b,bf,g0,kf,uInitial[1],uInitial[2],uInitial[3],uInitial[4]]\n",
    "#errorValue=50\n",
    "errorValue=0.1\n",
    "#inadType=2\n",
    "inadType=1\n",
    "\n",
    "vectorizedData = vectorizeObservation(accm)\n",
    "\n",
    "solution, derivatives = takeDerivs(p0)\n",
    "lowFidelData= derivatives[:,3]\n",
    "vectorized = vectorizeObservation(lowFidelData)"
   ]
  },
  {
   "cell_type": "code",
   "execution_count": null,
   "id": "c4093201",
   "metadata": {},
   "outputs": [],
   "source": [
    "options = Optim.Options(iterations=3000 , g_tol=1e-8, f_tol=1e-8)"
   ]
  },
  {
   "cell_type": "code",
   "execution_count": null,
   "id": "e8c693fe",
   "metadata": {},
   "outputs": [],
   "source": [
    "map = optimize(neglogpostp, p0, NelderMead(), options)"
   ]
  },
  {
   "cell_type": "code",
   "execution_count": null,
   "id": "a3163e87",
   "metadata": {},
   "outputs": [],
   "source": [
    "pMap = Optim.minimizer(map)"
   ]
  },
  {
   "cell_type": "code",
   "execution_count": null,
   "id": "f88617cb",
   "metadata": {},
   "outputs": [],
   "source": [
    "pMap= [ 26829.841887814073,\n",
    "     9.609192847463357,\n",
    "     0.17521950873153883,\n",
    "    21.4004436998016,\n",
    "   876.7328447912205,\n",
    "     0.0002597375940678401,\n",
    "     0.00044717111115589423,\n",
    "     0.00905698303567607,\n",
    "     0.009523083212694908]"
   ]
  },
  {
   "cell_type": "code",
   "execution_count": null,
   "id": "5b41dbe3",
   "metadata": {},
   "outputs": [],
   "source": [
    "#pMap[1:9]"
   ]
  },
  {
   "cell_type": "code",
   "execution_count": null,
   "id": "ece04054",
   "metadata": {},
   "outputs": [],
   "source": [
    "#pnew= pMap[1:9]\n",
    "pnew=pMap\n",
    "solution1, derivatives1 = takeDerivs(pnew)"
   ]
  },
  {
   "cell_type": "code",
   "execution_count": null,
   "id": "f8f400aa",
   "metadata": {},
   "outputs": [],
   "source": [
    "derivatives1[:,3]"
   ]
  },
  {
   "cell_type": "code",
   "execution_count": null,
   "id": "7489bfcd",
   "metadata": {},
   "outputs": [],
   "source": [
    "plot(storedTimes,accm, label =\"experiment\", linewidth=1.5, color=:blue)\n",
    "plot!(storedTimes, derivatives1[:,3], label=\"MAP estimate\", linestyle=:dash, linewidth=2, color=:red)\n",
    "xlabel!(\"Time\")\n",
    "ylabel!(\"Acceleration\")\n",
    "#savefig(\"RRExponentialm1k1_Hyper.png\")"
   ]
  },
  {
   "cell_type": "code",
   "execution_count": null,
   "id": "1ff4ff24",
   "metadata": {},
   "outputs": [],
   "source": [
    "pStart=pMap"
   ]
  },
  {
   "cell_type": "code",
   "execution_count": null,
   "id": "2490b373",
   "metadata": {},
   "outputs": [],
   "source": [
    "out = adaptive_rwm(pStart, logpostp, 300000, L=5, algorithm=:aswam,thin=1)"
   ]
  },
  {
   "cell_type": "code",
   "execution_count": null,
   "id": "5f8163f4",
   "metadata": {},
   "outputs": [],
   "source": [
    "postParams=transpose(out.X)"
   ]
  },
  {
   "cell_type": "code",
   "execution_count": null,
   "id": "1147c4ad",
   "metadata": {},
   "outputs": [],
   "source": [
    "df = DataFrame(postParams, :auto)"
   ]
  },
  {
   "cell_type": "code",
   "execution_count": null,
   "id": "6d55468c",
   "metadata": {},
   "outputs": [],
   "source": [
    "df = CSV.read(\"logNormalMCMCChains_M1K1_No_Hyper_Trial3_200000_L5_Updated_Priors_2.csv\", DataFrame)"
   ]
  },
  {
   "cell_type": "code",
   "execution_count": null,
   "id": "b879edff",
   "metadata": {},
   "outputs": [],
   "source": [
    "sdf = df[1:200:end, :]"
   ]
  },
  {
   "cell_type": "code",
   "execution_count": null,
   "id": "e1c7730a",
   "metadata": {},
   "outputs": [],
   "source": [
    "df"
   ]
  },
  {
   "cell_type": "code",
   "execution_count": null,
   "id": "db6c0185",
   "metadata": {},
   "outputs": [],
   "source": [
    "#CSV.write(\"logNormalMCMCChains_M1K1_No_Hyper_Trial3_200000_L5_Updated_Priors_2.csv\", df)\n"
   ]
  },
  {
   "cell_type": "code",
   "execution_count": null,
   "id": "2ef1e3d4",
   "metadata": {},
   "outputs": [],
   "source": [
    "x=LinRange(1,240001,240001)"
   ]
  },
  {
   "cell_type": "code",
   "execution_count": null,
   "id": "1a973c2c",
   "metadata": {},
   "outputs": [],
   "source": [
    "sx=LinRange(1,1201,1201)"
   ]
  },
  {
   "cell_type": "code",
   "execution_count": null,
   "id": "5a43b61f",
   "metadata": {},
   "outputs": [],
   "source": [
    "labels=[\"k\",\"b\",\"bf\",\"g0\",\"kf\",\"x1\",\"x2\", \"v1\", \"v2\"]\n",
    "plotsChains = []\n",
    "for i in 1:9\n",
    "    p = plot(x, df[:,i], title=\"Chain for $(labels[i])\", xlabel=\"Value\", ylabel=\"Density\", legend=false)\n",
    "    push!(plotsChains, p)\n",
    "end\n",
    "\n",
    "plot(plotsChains..., layout=(3, 3))"
   ]
  },
  {
   "cell_type": "code",
   "execution_count": null,
   "id": "d608c177",
   "metadata": {},
   "outputs": [],
   "source": [
    "plot(x, df[:,4])"
   ]
  },
  {
   "cell_type": "code",
   "execution_count": null,
   "id": "915325b1",
   "metadata": {},
   "outputs": [],
   "source": [
    "plotsChainsSampled = []\n",
    "for i in 1:9\n",
    "    p = plot(sx, sdf[:,i],title=\"Chain for $(labels[i])\", xlabel=\"Value\", ylabel=\"Density\", legend=false)\n",
    "    push!(plotsChainsSampled, p)\n",
    "end\n",
    "\n",
    "plot(plotsChainsSampled..., layout=(3, 3))"
   ]
  },
  {
   "cell_type": "code",
   "execution_count": null,
   "id": "0c733372",
   "metadata": {},
   "outputs": [],
   "source": [
    "plotCombo = []\n",
    "ps=plot(kde(df[:,1]))\n",
    "push!(plotCombo,ps)\n",
    "\n",
    "ps2= plot(x, df[:,1])\n",
    "push!(plotCombo,ps2)\n",
    "\n",
    "plot(plotCombo..., layout=(2, 2))"
   ]
  },
  {
   "cell_type": "code",
   "execution_count": null,
   "id": "f9663ae6",
   "metadata": {},
   "outputs": [],
   "source": [
    "#         μ_k, σ_k = log_normal_params(25788, 0.04)  #Prior for spring constant\n",
    "#         μ_b, σ_b = log_normal_params(18.206, 0.05)  #Prior for passive damping\n",
    "#         μ_bf, σ_bf = log_normal_params(0.176, 0.02) #Prior for passive damping of frame\n",
    "#         μ_g0, σ_g0 = log_normal_params(26,0.02) #Prior for active damping\n",
    "#         μ_kf, σ_kf = log_normal_params(722,0.07) #Prior for spring constant of frame\n",
    "\n",
    "μ_kf, σ_kf = log_normal_params(722,0.07)  #Prior for spring constant\n",
    "\n",
    "dist = LogNormal(μ_kf, σ_kf)\n",
    "\n",
    "distr = rand(dist, 10000)\n",
    "plot(kde(distr), xlabel=\"kf\", ylabel=\"Density\", title=\"Kernel Density for Spring Constant of Frame\")\n",
    "#savefig(\"KDE_kf.png\")"
   ]
  },
  {
   "cell_type": "code",
   "execution_count": null,
   "id": "92f89b2a",
   "metadata": {},
   "outputs": [],
   "source": [
    "log(25788)"
   ]
  },
  {
   "cell_type": "code",
   "execution_count": null,
   "id": "fcd982b9",
   "metadata": {},
   "outputs": [],
   "source": [
    "plotsKDEs = []\n",
    "for i in 1:9\n",
    "    p = plot(kde(df[:,i]), title=\"KDE $i\", xlabel=\"Value\", ylabel=\"Density\", legend=false)\n",
    "    push!(plotsKDEs, p)\n",
    "end\n",
    "\n",
    "plot(plotsKDEs..., layout=(3, 3))"
   ]
  },
  {
   "cell_type": "code",
   "execution_count": null,
   "id": "149d9552",
   "metadata": {},
   "outputs": [],
   "source": [
    "splotsKDEs = []\n",
    "for i in 1:9\n",
    "    p = plot(kde(sdf[:,i]), title=\"KDE $i\", xlabel=\"Value\", ylabel=\"Density\", legend=false)\n",
    "    push!(splotsKDEs, p)\n",
    "end\n",
    "\n",
    "plot(splotsKDEs..., layout=(3, 3))"
   ]
  },
  {
   "cell_type": "code",
   "execution_count": null,
   "id": "ac490208",
   "metadata": {},
   "outputs": [],
   "source": [
    "plot(x, df[:,1])\n",
    "#savefig(\"RRLogNormalm1k1_NonHyper_Trial3_200000_L5_MCMC_Chain1.png\")"
   ]
  },
  {
   "cell_type": "code",
   "execution_count": null,
   "id": "d27d01af",
   "metadata": {},
   "outputs": [],
   "source": [
    "plot(sx, sdf[:,1])"
   ]
  },
  {
   "cell_type": "code",
   "execution_count": null,
   "id": "3ce3afcc",
   "metadata": {},
   "outputs": [],
   "source": [
    "plot(x, df[:,2])\n",
    "#savefig(\"RRLogNormalm1k1_NonHyper_Trial3_200000_L5_MCMC_Chain2.png\")"
   ]
  },
  {
   "cell_type": "code",
   "execution_count": null,
   "id": "53a0b102",
   "metadata": {},
   "outputs": [],
   "source": [
    "plot(sx, sdf[:,2])"
   ]
  },
  {
   "cell_type": "code",
   "execution_count": null,
   "id": "d29b09ce",
   "metadata": {},
   "outputs": [],
   "source": [
    "plot(x, df[:,3])\n",
    "#savefig(\"RRLogNormalm1k1_NonHyper_Trial3_200000_L5_MCMC_Chain3.png\")"
   ]
  },
  {
   "cell_type": "code",
   "execution_count": null,
   "id": "31eb9e39",
   "metadata": {},
   "outputs": [],
   "source": [
    "plot(sx, sdf[:,3])"
   ]
  },
  {
   "cell_type": "code",
   "execution_count": null,
   "id": "3f928149",
   "metadata": {},
   "outputs": [],
   "source": [
    "plot(x, df[:,4])\n",
    "#savefig(\"RRLogNormalm1k1_NonHyper_Trial3_200000_L5_MCMC_Chain4.png\")"
   ]
  },
  {
   "cell_type": "code",
   "execution_count": null,
   "id": "728a9d44",
   "metadata": {},
   "outputs": [],
   "source": [
    "plot(sx, sdf[:,4])"
   ]
  },
  {
   "cell_type": "code",
   "execution_count": null,
   "id": "eb44afcd",
   "metadata": {},
   "outputs": [],
   "source": [
    "plot(x, df[:,5])\n",
    "#savefig(\"RRLogNormalm1k1_NonHyper_Trial3_200000_L5_MCMC_Chain5.png\")"
   ]
  },
  {
   "cell_type": "code",
   "execution_count": null,
   "id": "2a0fbc70",
   "metadata": {},
   "outputs": [],
   "source": [
    "plot(sx, sdf[:,5])"
   ]
  },
  {
   "cell_type": "code",
   "execution_count": null,
   "id": "1ca88fa2",
   "metadata": {},
   "outputs": [],
   "source": [
    "plot(x, df[:,6])\n",
    "#savefig(\"RRLogNormalm1k1_NonHyper_Trial3_200000_L5_MCMC_Chain6.png\")"
   ]
  },
  {
   "cell_type": "code",
   "execution_count": null,
   "id": "9a9d6830",
   "metadata": {},
   "outputs": [],
   "source": [
    "plot(sx, sdf[:,6])"
   ]
  },
  {
   "cell_type": "code",
   "execution_count": null,
   "id": "15708ee8",
   "metadata": {},
   "outputs": [],
   "source": [
    "plot(x, df[:,7])\n",
    "#savefig(\"RRLogNormalm1k1_NonHyper_Trial3_200000_L5_MCMC_Chain7.png\")"
   ]
  },
  {
   "cell_type": "code",
   "execution_count": null,
   "id": "75cff298",
   "metadata": {},
   "outputs": [],
   "source": [
    "plot(sx, sdf[:,7])"
   ]
  },
  {
   "cell_type": "code",
   "execution_count": null,
   "id": "3558ed5f",
   "metadata": {},
   "outputs": [],
   "source": [
    "plot(x, df[:,8])\n",
    "#savefig(\"RRLogNormalm1k1_NonHyper_Trial3_200000_L5_MCMC_Chain8.png\")"
   ]
  },
  {
   "cell_type": "code",
   "execution_count": null,
   "id": "b26ff8e4",
   "metadata": {},
   "outputs": [],
   "source": [
    "plot(sx, sdf[:,8])"
   ]
  },
  {
   "cell_type": "code",
   "execution_count": null,
   "id": "0a6300ec",
   "metadata": {},
   "outputs": [],
   "source": [
    "plot(x, df[:,9])\n",
    "#savefig(\"RRLogNormalm1k1_NonHyper_Trial3_200000_L5_MCMC_Chain9.png\")"
   ]
  },
  {
   "cell_type": "code",
   "execution_count": null,
   "id": "a89bd593",
   "metadata": {},
   "outputs": [],
   "source": [
    "plot(sx, sdf[:,9])"
   ]
  },
  {
   "cell_type": "code",
   "execution_count": null,
   "id": "477acb09",
   "metadata": {},
   "outputs": [],
   "source": [
    "#plot(kde(df[:,1]))\n",
    "#savefig(\"RRLogNormalm1k1_NonHyper_Trial3_200000_L5_MCMC_KDE1.png\")"
   ]
  },
  {
   "cell_type": "code",
   "execution_count": null,
   "id": "fce591c0",
   "metadata": {},
   "outputs": [],
   "source": [
    "#plot(kde(sdf[:,1]))"
   ]
  },
  {
   "cell_type": "code",
   "execution_count": null,
   "id": "660ef4bc",
   "metadata": {},
   "outputs": [],
   "source": [
    "#plot(kde(df[:,2]))\n",
    "#savefig(\"RRLogNormalm1k1_NonHyper_Trial3_200000_L5_MCMC_KDE2.png\")"
   ]
  },
  {
   "cell_type": "code",
   "execution_count": null,
   "id": "b7ed0e09",
   "metadata": {},
   "outputs": [],
   "source": [
    "#plot(kde(sdf[:,2]))"
   ]
  },
  {
   "cell_type": "code",
   "execution_count": null,
   "id": "becae9f1",
   "metadata": {},
   "outputs": [],
   "source": [
    "#plot(kde(df[:,3]))\n",
    "#savefig(\"RRLogNormalm1k1_NonHyper_Trial3_200000_L5_MCMC_KDE3.png\")"
   ]
  },
  {
   "cell_type": "code",
   "execution_count": null,
   "id": "e0745f96",
   "metadata": {},
   "outputs": [],
   "source": [
    "#plot(kde(sdf[:,3]))"
   ]
  },
  {
   "cell_type": "code",
   "execution_count": null,
   "id": "34e950f6",
   "metadata": {},
   "outputs": [],
   "source": [
    "#plot(kde(df[:,4]))\n",
    "#savefig(\"RRLogNormalm1k1_NonHyper_Trial3_200000_L5_MCMC_KDE4.png\")"
   ]
  },
  {
   "cell_type": "code",
   "execution_count": null,
   "id": "dc295296",
   "metadata": {},
   "outputs": [],
   "source": [
    "#plot(kde(sdf[:,4]))"
   ]
  },
  {
   "cell_type": "code",
   "execution_count": null,
   "id": "76ec7eb4",
   "metadata": {},
   "outputs": [],
   "source": [
    "#plot(kde(df[:,5]))\n",
    "#savefig(\"RRLogNormalm1k1_NonHyper_Trial3_200000_L5_MCMC_KDE5.png\")"
   ]
  },
  {
   "cell_type": "code",
   "execution_count": null,
   "id": "e8e5543f",
   "metadata": {},
   "outputs": [],
   "source": [
    "#plot(kde(sdf[:,5]))"
   ]
  },
  {
   "cell_type": "code",
   "execution_count": null,
   "id": "bec2ff60",
   "metadata": {},
   "outputs": [],
   "source": [
    "#plot(kde(df[:,6]))\n",
    "#savefig(\"RRLogNormalm1k1_NonHyper_Trial3_200000_L5_MCMC_KDE6.png\")"
   ]
  },
  {
   "cell_type": "code",
   "execution_count": null,
   "id": "ae2a5cf4",
   "metadata": {},
   "outputs": [],
   "source": [
    "#plot(kde(sdf[:,6]))"
   ]
  },
  {
   "cell_type": "code",
   "execution_count": null,
   "id": "34bd8dc1",
   "metadata": {},
   "outputs": [],
   "source": [
    "#plot(kde(df[:,7]))\n",
    "#savefig(\"RRLogNormalm1k1_NonHyper_Trial3_200000_L5_MCMC_KDE7.png\")"
   ]
  },
  {
   "cell_type": "code",
   "execution_count": null,
   "id": "9cf313aa",
   "metadata": {},
   "outputs": [],
   "source": [
    "#plot(kde(sdf[:,7]))"
   ]
  },
  {
   "cell_type": "code",
   "execution_count": null,
   "id": "30319d81",
   "metadata": {},
   "outputs": [],
   "source": [
    "#plot(kde(df[:,8]))\n",
    "#savefig(\"RRLogNormalm1k1_NonHyper_Trial3_200000_L5_MCMC_KDE8.png\")"
   ]
  },
  {
   "cell_type": "code",
   "execution_count": null,
   "id": "de439b7f",
   "metadata": {},
   "outputs": [],
   "source": [
    "#plot(kde(sdf[:,8]))"
   ]
  },
  {
   "cell_type": "code",
   "execution_count": null,
   "id": "1edb91fa",
   "metadata": {},
   "outputs": [],
   "source": [
    "#plot(kde(df[:,9]))\n",
    "#savefig(\"RRLogNormalm1k1_NonHyper_Trial3_200000_L5_MCMC_KDE9.png\")"
   ]
  },
  {
   "cell_type": "code",
   "execution_count": null,
   "id": "5a6d8e14",
   "metadata": {},
   "outputs": [],
   "source": [
    "#plot(kde(sdf[:,9]))"
   ]
  },
  {
   "cell_type": "code",
   "execution_count": null,
   "id": "47dec82e",
   "metadata": {},
   "outputs": [],
   "source": [
    "nTraj = 240001\n",
    "snTraj = 1201\n",
    "\n",
    "combinedps = [ [df[:, :x1][i], df[:, :x2][i], df[:, :x3][i], df[:, :x4][i], df[:, :x5][i], df[:, :x6][i], df[:, :x7][i], df[:, :x8][i], df[:, :x9][i]] for i in 1:nTraj ]\n",
    "\n",
    "scombinedps = [ [sdf[:, :x1][i], sdf[:, :x2][i], sdf[:, :x3][i], sdf[:, :x4][i], sdf[:, :x5][i], sdf[:, :x6][i], sdf[:, :x7][i], sdf[:, :x8][i], sdf[:, :x9][i]] for i in 1:snTraj ]\n"
   ]
  },
  {
   "cell_type": "code",
   "execution_count": null,
   "id": "78e87599",
   "metadata": {},
   "outputs": [],
   "source": [
    "snTraj = 1201\n",
    "scombinedps = [ [sdf[:, :x1][i], sdf[:, :x2][i], sdf[:, :x3][i], sdf[:, :x4][i], sdf[:, :x5][i], sdf[:, :x6][i], sdf[:, :x7][i], sdf[:, :x8][i], sdf[:, :x9][i]] for i in 1:snTraj ]\n"
   ]
  },
  {
   "cell_type": "code",
   "execution_count": null,
   "id": "a7415f68",
   "metadata": {},
   "outputs": [],
   "source": [
    "MCMC_results=[]\n",
    "for param in combinedps\n",
    "    pTrue = param\n",
    "    \n",
    "    solution, derivatives = takeDerivs(pTrue)\n",
    "    \n",
    "    push!(MCMC_results, (derivatives[:,3]))\n",
    "end"
   ]
  },
  {
   "cell_type": "code",
   "execution_count": null,
   "id": "4fbe4bf3",
   "metadata": {},
   "outputs": [],
   "source": [
    "sMCMC_results=[]\n",
    "for param in scombinedps\n",
    "    pTrue = param\n",
    "    \n",
    "    solution, derivatives = takeDerivs(pTrue)\n",
    "    \n",
    "    push!(sMCMC_results, (derivatives[:,3]))\n",
    "end"
   ]
  },
  {
   "cell_type": "code",
   "execution_count": null,
   "id": "ac5f95f5",
   "metadata": {},
   "outputs": [],
   "source": [
    "\n",
    "\n",
    "ytrajectories = [MCMC_results[i] for i in 1:nTraj]\n",
    "trajectories = hcat(ytrajectories...)\n",
    "\n",
    "quantilesToPlot = [0.25,0.75,0.025,0.975]\n",
    "function computeQuantiles(data, quantiles)\n",
    "    return [quantile(data, q) for q in quantiles]\n",
    "end\n",
    "\n",
    "quantile_data = mapslices(data -> computeQuantiles(data, quantilesToPlot), trajectories, dims=2)\n",
    "\n",
    "quantile50L = quantile_data[:, 1]\n",
    "quantile50U = quantile_data[:, 2]\n",
    "quantile95L = quantile_data[:, 3]\n",
    "quantile95U = quantile_data[:, 4]\n",
    "\n",
    "plot(storedTimes, quantile50L, label=nothing, color=:blue)\n",
    "plot!(storedTimes, quantile50U, label=nothing, color=:blue)\n",
    "plot!(storedTimes, quantile95L, label=nothing, color=:red)\n",
    "plot!(storedTimes, quantile95U, label=nothing, color=:red)\n"
   ]
  },
  {
   "cell_type": "code",
   "execution_count": null,
   "id": "51010bef",
   "metadata": {},
   "outputs": [],
   "source": [
    "sytrajectories = [sMCMC_results[i] for i in 1:snTraj]\n",
    "strajectories = hcat(sytrajectories...)\n",
    "\n",
    "quantilesToPlot = [0.25,0.75,0.025,0.975]\n",
    "function computeQuantiles(data, quantiles)\n",
    "    return [quantile(data, q) for q in quantiles]\n",
    "end\n",
    "\n",
    "squantile_data = mapslices(data -> computeQuantiles(data, quantilesToPlot), strajectories, dims=2)\n",
    "\n",
    "squantile50L = squantile_data[:, 1]\n",
    "squantile50U = squantile_data[:, 2]\n",
    "squantile95L = squantile_data[:, 3]\n",
    "squantile95U = squantile_data[:, 4]\n",
    "\n",
    "plot(storedTimes, squantile50L, label=nothing, color=:blue)\n",
    "plot!(storedTimes, squantile50U, label=nothing, color=:blue)\n",
    "plot!(storedTimes, squantile95L, label=nothing, color=:red)\n",
    "plot!(storedTimes, squantile95U, label=nothing, color=:red)"
   ]
  },
  {
   "cell_type": "code",
   "execution_count": null,
   "id": "3f46dacf",
   "metadata": {},
   "outputs": [],
   "source": [
    "saverage_trajectory = mean(strajectories, dims=2)\n",
    "savg = vec(saverage_trajectory)\n",
    "\n",
    "saverageVals = combine(sdf, names(sdf) .=> mean)\n",
    "println(saverageVals)"
   ]
  },
  {
   "cell_type": "code",
   "execution_count": null,
   "id": "78d39ffd",
   "metadata": {},
   "outputs": [],
   "source": [
    "average_trajectory = mean(trajectories, dims=2)\n",
    "avg = vec(average_trajectory)\n",
    "\n",
    "averageVals = combine(df, names(df) .=> mean)\n",
    "println(averageVals)"
   ]
  },
  {
   "cell_type": "code",
   "execution_count": null,
   "id": "aa3df7df",
   "metadata": {},
   "outputs": [],
   "source": [
    "solutionStart, derivativesStart = takeDerivs(pStart)\n",
    "\n",
    "strt=derivativesStart[:,3]\n",
    "\n",
    "plot(storedTimes,strt)"
   ]
  },
  {
   "cell_type": "code",
   "execution_count": null,
   "id": "2b73732c",
   "metadata": {},
   "outputs": [],
   "source": [
    "fill50=plot(storedTimes,quantile50L,fillrange=quantile50U, fillalpha=0.5, fillcolor=:orange,color=:orange, label=nothing)\n",
    "fill95=plot(storedTimes,quantile95L,fillrange=quantile95U, fillalpha=0.75, fillcolor=:orange,color=:orange, label=nothing)\n",
    "\n",
    "p3=plot(fill50)\n",
    "p3=plot!(fill95)\n",
    "p3=plot!(storedTimes,accm, label =\"experiment\", linewidth=1.5, color=:blue)\n",
    "p3=plot!(storedTimes, avg, label=\"calibrated\", linestyle=:dash, linewidth=2, color=:red)\n",
    "xlabel!(\"Time\")\n",
    "ylabel!(\"Acceleration\")\n",
    "\n",
    "#savefig(\"RRLogNormalm1k1_NonHyper_Trial3_200000_L5_MCMCwCIs.png\")"
   ]
  },
  {
   "cell_type": "code",
   "execution_count": null,
   "id": "11f5d371",
   "metadata": {},
   "outputs": [],
   "source": [
    "sfill50=plot(storedTimes,squantile50L,fillrange=squantile50U, fillalpha=0.5, fillcolor=:orange,color=:orange, label=nothing)\n",
    "sfill95=plot(storedTimes,squantile95L,fillrange=squantile95U, fillalpha=0.75, fillcolor=:orange,color=:orange, label=nothing)\n",
    "\n",
    "p4=plot(sfill50)\n",
    "p4=plot!(sfill95)\n",
    "p4=plot!(storedTimes,accm, label =\"experiment\", linewidth=1.5, color=:blue)\n",
    "p4=plot!(storedTimes, savg, label=\"calibrated\", linestyle=:dash, linewidth=2, color=:red)\n",
    "xlabel!(\"Time\")\n",
    "ylabel!(\"Acceleration\")\n",
    "\n",
    "#savefig(\"RRLogNormalm1k1_NonHyper_Trial3_200000_L5_MCMCwCIs_sampled.png\")"
   ]
  },
  {
   "cell_type": "code",
   "execution_count": null,
   "id": "3c20b1b9",
   "metadata": {},
   "outputs": [],
   "source": [
    "function predictiveAssessment(enriched, observed; alpha =0.05)\n",
    "    numObs = length(observed)\n",
    "    gammas = zeros(numObs)\n",
    "    numSamples = (size(enriched)[2])\n",
    "    Random.seed!(seedNum)\n",
    "    numObsError = 100\n",
    "    \n",
    "    predictions = zeros(numSamples, numObs)\n",
    "\n",
    "    postPred = zeros(numObs, numSamples*numObsError)\n",
    "    \n",
    "    for j in 1:numObs      \n",
    "        for k in 1:numSamples\n",
    "            mu = enriched[j,k]\n",
    "            postPred[j,(k-1)*numObsError+1:(k-1)*numObsError+numObsError]= rand(Normal(mu,0.1),numObsError)\n",
    "        end\n",
    "        density = kde(postPred[j,:])\n",
    "        ik=InterpKDE(density)\n",
    "        minf = minimum(postPred[j,:])\n",
    "        maxf = maximum(postPred[j,:])\n",
    "        xs = LinRange(minf,maxf,200)\n",
    "        fpdf = pdf(ik,xs)\n",
    "        fpdfLen = length(fpdf)\n",
    "        pofy=pdf(ik,observed[j])\n",
    "            \n",
    "        for l in 1:fpdfLen\n",
    "            if fpdf[l]>pofy\n",
    "                fpdf[l]=0.\n",
    "            end\n",
    "        end\n",
    "        gamma = -trapz(fpdf,xs)\n",
    "        gammas[j]=gamma\n",
    "    end\n",
    "    return gammas, postPred\n",
    "    \n",
    "end\n",
    "\n",
    "function fractionGamma(gamma;alpha=0.05)\n",
    "    numObs = length(gamma)\n",
    "    tau = alpha/numObs\n",
    "    count = 0\n",
    "    for i in 1:numObs\n",
    "        if gamma[i]<tau\n",
    "            count+=1\n",
    "        end\n",
    "    end\n",
    "    count/numObs\n",
    "end"
   ]
  },
  {
   "cell_type": "code",
   "execution_count": null,
   "id": "f0ce07d3",
   "metadata": {},
   "outputs": [],
   "source": [
    "strajectories"
   ]
  },
  {
   "cell_type": "code",
   "execution_count": null,
   "id": "d1909504",
   "metadata": {},
   "outputs": [],
   "source": [
    "seedNum=1000"
   ]
  },
  {
   "cell_type": "code",
   "execution_count": null,
   "id": "7af3dae5",
   "metadata": {},
   "outputs": [],
   "source": [
    "Gs=predictiveAssessment(strajectories,accm)"
   ]
  },
  {
   "cell_type": "code",
   "execution_count": null,
   "id": "4307055b",
   "metadata": {},
   "outputs": [],
   "source": [
    "GammaVals = Gs[1]\n",
    "posteriors=Gs[2]"
   ]
  },
  {
   "cell_type": "code",
   "execution_count": null,
   "id": "198309e5",
   "metadata": {},
   "outputs": [],
   "source": [
    "GammaVals"
   ]
  },
  {
   "cell_type": "code",
   "execution_count": null,
   "id": "1568f33f",
   "metadata": {},
   "outputs": [],
   "source": [
    "plot(posteriors[:,1])"
   ]
  },
  {
   "cell_type": "code",
   "execution_count": null,
   "id": "5233a042",
   "metadata": {},
   "outputs": [],
   "source": [
    "plots_list = []\n",
    "for i in 1:9\n",
    "    p = plot(storedTimes, posteriors[:,i], title=\"Column $i\", xlabel=\"Value\", ylabel=\"Density\", legend=false)\n",
    "    push!(plots_list, p)\n",
    "end"
   ]
  },
  {
   "cell_type": "code",
   "execution_count": null,
   "id": "84c58a28",
   "metadata": {},
   "outputs": [],
   "source": [
    "plot(plots_list..., layout=(3, 3))"
   ]
  },
  {
   "cell_type": "code",
   "execution_count": null,
   "id": "74a52488",
   "metadata": {},
   "outputs": [],
   "source": [
    "histogram(GammaVals, bins=200, title=\"Histogram of Gamma Vals\", xlabel=\"Value\", ylabel=\"Frequency\", legend=false)\n",
    "vline!([0.05/length(GammaVals)], line=:dash,color=:red, linewidth=2, label=\"Threshold\")\n"
   ]
  },
  {
   "cell_type": "code",
   "execution_count": null,
   "id": "3c28d70b",
   "metadata": {},
   "outputs": [],
   "source": [
    "fractionGamma(GammaVals)"
   ]
  },
  {
   "cell_type": "code",
   "execution_count": null,
   "id": "3e641afe",
   "metadata": {},
   "outputs": [],
   "source": [
    "0.05/length(GammaVals)"
   ]
  },
  {
   "cell_type": "code",
   "execution_count": null,
   "id": "ca11f3ec",
   "metadata": {},
   "outputs": [],
   "source": []
  }
 ],
 "metadata": {
  "kernelspec": {
   "display_name": "Julia 1.10.3",
   "language": "julia",
   "name": "julia-1.10"
  },
  "language_info": {
   "file_extension": ".jl",
   "mimetype": "application/julia",
   "name": "julia",
   "version": "1.10.3"
  }
 },
 "nbformat": 4,
 "nbformat_minor": 5
}
