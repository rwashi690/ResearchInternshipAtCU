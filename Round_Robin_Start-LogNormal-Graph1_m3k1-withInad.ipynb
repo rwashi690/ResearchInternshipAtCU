{
 "cells": [
  {
   "cell_type": "code",
   "execution_count": null,
   "id": "b31339ba",
   "metadata": {},
   "outputs": [],
   "source": [
    "using Pkg; Pkg.activate(\".\")\n",
    "using Random, Distributions, LinearAlgebra, Statistics\n",
    "using Plots, Plots.PlotMeasures, StatsPlots, LaTeXStrings\n",
    "using Zygote, Flux, Turing, MCMCChains, AdvancedMH, Optim, AdvancedHMC\n",
    "using DistributionsAD, AdvancedVI, Distributions\n",
    "using DiffEqFlux, DifferentialEquations, DiffEqCallbacks\n",
    "using LinearAlgebra, SymPy, StatsBase\n",
    "using AdaptiveMCMC, DataFrames, KernelDensity\n",
    "using CSV, Trapz, QuadGK, DelimitedFiles, Optim"
   ]
  },
  {
   "cell_type": "code",
   "execution_count": null,
   "id": "7371ef29",
   "metadata": {},
   "outputs": [],
   "source": [
    "times = readdlm(\"./k1m3h1/times.mat\", Float32)\n",
    "expTimes = vcat(times[1,1:end])\n",
    "filteredTimes = filter(x -> 0.01<=x<=0.5, expTimes)\n",
    "expTimes2 = filteredTimes"
   ]
  },
  {
   "cell_type": "code",
   "execution_count": null,
   "id": "54ec862e",
   "metadata": {},
   "outputs": [],
   "source": [
    "indices = findall(x -> 0.01 <= x <= 0.5, expTimes)"
   ]
  },
  {
   "cell_type": "code",
   "execution_count": null,
   "id": "39f76ea6",
   "metadata": {},
   "outputs": [],
   "source": [
    "#Defining Constants\n",
    "D = 0.0485\n",
    "Df = 0.001\n",
    "\n",
    "m=1.0613\n",
    "mf=9.33\n",
    "\n",
    "k = 26912.6\n",
    "b = 1.70338\n",
    "g0 =26.1782\n",
    "kf = 180.714\n",
    "bf = 0.176391\n",
    "\n",
    "uInitial = [0.019893, 0.0200593, 0.00754123, 0.00832097]\n",
    "u0=uInitial\n",
    "\n",
    "tspan = (expTimes2[1], expTimes2[end])\n",
    "storedTimes = expTimes2\n",
    "inadType=1\n",
    "\n",
    "params = [k,b,bf,g0,kf]\n",
    "pTrue = vcat(params,u0)\n",
    "\n",
    "# For high fidelity\n",
    "ki = 25788\n",
    "bi = 18.206\n",
    "g0i =26\n",
    "kfi = 722.0\n",
    "bfi = 0.176\n",
    "\n",
    "k1=40000\n",
    "k2=5\n",
    "\n",
    "mi=1.0613\n",
    "mfi=9.33\n",
    "\n",
    "paramsHigh =[ki,bi,bfi,g0i,kfi,k1,k2]\n",
    "pTrueHigh=vcat(paramsHigh,u0)"
   ]
  },
  {
   "cell_type": "code",
   "execution_count": null,
   "id": "4c8d2df9",
   "metadata": {},
   "outputs": [],
   "source": [
    "function lowFidelity(du,u,p,t)\n",
    "    k = p[1]\n",
    "    b = p[2]\n",
    "    bf = p[3]\n",
    "    g0 = p[4]\n",
    "    kf = p[5]\n",
    "\n",
    "    if inadType == 1 || inadType == 2\n",
    "        x = u[1:2]\n",
    "        v = u[3:4]\n",
    "        \n",
    "        du[1:2]=v\n",
    "        \n",
    "        du[3]=(1/m)*(-b*(v[1]-v[2])-g0*v[1]-k*(x[1]-x[2]))\n",
    "        du[4]=(1/mf)*(b*(v[1]-v[2])+k*(x[1]-x[2])-bf*v[2]-kf*x[2])\n",
    "    end\n",
    "    return du\n",
    "end\n",
    "\n",
    "function highFidelity(du,u,p,t)\n",
    "    ki = p[1]\n",
    "    bi = p[2]\n",
    "    bfi = p[3]\n",
    "    g0i = p[4]\n",
    "    kfi = p[5]\n",
    "\n",
    "    k1 = p[6]\n",
    "    k2 = p[7]\n",
    "\n",
    "    if inadType == 3 || inadType == 4\n",
    "        x = u[1:2]\n",
    "        v = u[3:4]\n",
    "        \n",
    "        du[1:2]=v\n",
    "        \n",
    "        du[3]=(1/mi)*(-bi*(v[1]-v[2])-g0i*v[1]-(ki*(x[1]-x[2])+k1*abs(x[1]-x[2])*(x[1]-x[2])+k2*(x[1]-x[2])^3))\n",
    "        du[4]=(1/mfi)*(bi*(v[1]-v[2])+ki*(x[1]-x[2])-bfi*v[2]-kfi*x[2])\n",
    "    end\n",
    "    return du\n",
    "end"
   ]
  },
  {
   "cell_type": "code",
   "execution_count": null,
   "id": "da0b0fec",
   "metadata": {},
   "outputs": [],
   "source": [
    "function takeDerivs(p; fp=false)\n",
    "    vals = SavedValues(Float64, Vector{Float64})\n",
    "    cb = SavingCallback((u,t,integrator)->integrator(t,Val{1}), vals, saveat=storedTimes)\n",
    "    lowFidel = ODEProblem(lowFidelity, p[6:9],tspan,p)\n",
    "    sol = Array(solve(lowFidel,RadauIIA5(), u0=p[6:9], p=p,saveat=storedTimes, reltol=1e-4, abstol=1e-4, callback=cb))\n",
    "        \n",
    "    derivs = mapreduce(permutedims, vcat, vals.saveval)\n",
    "    \n",
    "    return sol, derivs\n",
    "end\n",
    "\n",
    "function takeDerivsInad(p; fp=false)\n",
    "    vals = SavedValues(Float64, Vector{Float64})\n",
    "    cb = SavingCallback((u,t,integrator)->integrator(t,Val{1}), vals, saveat=storedTimes)\n",
    "    highFidel = ODEProblem(highFidelity, p[8:11],tspan,p)\n",
    "    sol = Array(solve(highFidel,RadauIIA5(), u0=p[8:11], p=p,saveat=storedTimes, reltol=1e-4, abstol=1e-4, callback=cb))\n",
    "        \n",
    "    derivs = mapreduce(permutedims, vcat, vals.saveval)\n",
    "    \n",
    "    return sol, derivs\n",
    "end"
   ]
  },
  {
   "cell_type": "code",
   "execution_count": null,
   "id": "4f178fac",
   "metadata": {},
   "outputs": [],
   "source": [
    "#solution, derivatives = takeDerivs(pTrue)"
   ]
  },
  {
   "cell_type": "code",
   "execution_count": null,
   "id": "a5a0d3d1",
   "metadata": {},
   "outputs": [],
   "source": [
    "data_accm = readdlm(\"./k1m3h1/acc_output5.mat\", Float32)\n",
    "data_accm_pr = vcat(data_accm[1,1:end])\n",
    "data_accmf = readdlm(\"./k1m3h1/acc_w_output5.mat\", Float32)\n",
    "data_accmf_pr = vcat(data_accm[1,1:end])\n",
    "\n",
    "accm = data_accm_pr[104:2612, :]\n",
    "accf = data_accmf_pr[104:2612, :]"
   ]
  },
  {
   "cell_type": "code",
   "execution_count": null,
   "id": "a1f62765",
   "metadata": {},
   "outputs": [],
   "source": [
    "# # plot(storedTimes,accm)\n",
    "# # plot!(storedTimes, derivatives[:,3])\n",
    "# # xlims!(0,0.5)\n",
    "\n",
    "# plot(storedTimes,accm, label =\"experiment\",title=\"m=2 and k=1\", linewidth=1.5, color=:blue)\n",
    "# plot!(storedTimes, derivatives[:,3], label=\"low fidelity\", linestyle=:dash, linewidth=2, color=:red)\n",
    "# xlabel!(\"Time\")\n",
    "# ylabel!(\"Acceleration\")\n",
    "# #savefig(\"RRLogNormalm2k1_not_recal.png\")"
   ]
  },
  {
   "cell_type": "code",
   "execution_count": null,
   "id": "fc85530a",
   "metadata": {},
   "outputs": [],
   "source": [
    "dfInad = CSV.read(\"logNormalMCMCChains_M1K1_No_Hyper_Trial6_200000_L5_Inad.csv\", DataFrame)\n",
    "df = CSV.read(\"logNormalMCMCChains_M1K1_No_Hyper_Trial3_300000_L5_Updated_Priors_2.csv\", DataFrame)"
   ]
  },
  {
   "cell_type": "code",
   "execution_count": null,
   "id": "ffef0d3e",
   "metadata": {},
   "outputs": [],
   "source": [
    "dfInad "
   ]
  },
  {
   "cell_type": "code",
   "execution_count": null,
   "id": "d971e8cb",
   "metadata": {},
   "outputs": [],
   "source": [
    "sdf = df[1:200:end, :]\n",
    "sdfInad = dfInad[1:200:end, :]"
   ]
  },
  {
   "cell_type": "code",
   "execution_count": null,
   "id": "a0b86e91",
   "metadata": {},
   "outputs": [],
   "source": [
    "nTrajInad=801\n",
    "nTraj=1201"
   ]
  },
  {
   "cell_type": "code",
   "execution_count": null,
   "id": "6b7baf28",
   "metadata": {},
   "outputs": [],
   "source": [
    "scombinedpsInad = [ [sdfInad[:, :x1][i], sdfInad[:, :x2][i], sdfInad[:, :x3][i], sdfInad[:, :x4][i], sdfInad[:, :x5][i], sdfInad[:, :x6][i], sdfInad[:, :x7][i], sdfInad[:, :x8][i], sdfInad[:, :x9][i], sdfInad[:, :x10][i], sdfInad[:, :x11][i]] for i in 1:nTrajInad ]\n",
    "scombinedps = [ [sdf[:, :x1][i], sdf[:, :x2][i], sdf[:, :x3][i], sdf[:, :x4][i], sdf[:, :x5][i], sdf[:, :x6][i], sdf[:, :x7][i], sdf[:, :x8][i], sdf[:, :x9][i]] for i in 1:nTraj ]\n"
   ]
  },
  {
   "cell_type": "code",
   "execution_count": null,
   "id": "b397ad9e",
   "metadata": {},
   "outputs": [],
   "source": [
    "inadType=1\n",
    "MCMC_results=[]\n",
    "for param in scombinedps\n",
    "    pTrue = param\n",
    "    \n",
    "    solution, derivatives = takeDerivs(pTrue)\n",
    "    \n",
    "    push!(MCMC_results, (derivatives[:,3]))\n",
    "end\n",
    "    "
   ]
  },
  {
   "cell_type": "code",
   "execution_count": null,
   "id": "835a4b10",
   "metadata": {},
   "outputs": [],
   "source": [
    "inadType=3\n",
    "MCMC_resultsInad=[]\n",
    "for param in scombinedpsInad\n",
    "    pTrue = param\n",
    "    \n",
    "    solution, derivatives = takeDerivsInad(pTrue)\n",
    "    \n",
    "    push!(MCMC_resultsInad, (derivatives[:,3]))\n",
    "end"
   ]
  },
  {
   "cell_type": "code",
   "execution_count": null,
   "id": "a8900da2",
   "metadata": {},
   "outputs": [],
   "source": [
    "ytrajectories = [MCMC_results[i] for i in 1:nTraj]\n",
    "trajectories = hcat(ytrajectories...)\n",
    "\n",
    "quantilesToPlot = [0.25,0.75,0.025,0.975]\n",
    "function computeQuantiles(data, quantiles)\n",
    "    return [quantile(data, q) for q in quantiles]\n",
    "end\n",
    "\n",
    "quantile_data = mapslices(data -> computeQuantiles(data, quantilesToPlot), trajectories, dims=2)\n",
    "\n",
    "quantile50L = quantile_data[:, 1]\n",
    "quantile50U = quantile_data[:, 2]\n",
    "quantile95L = quantile_data[:, 3]\n",
    "quantile95U = quantile_data[:, 4]\n",
    "\n",
    "plot(storedTimes, quantile50L, label=nothing, color=:blue)\n",
    "plot!(storedTimes, quantile50U, label=nothing, color=:blue)\n",
    "plot!(storedTimes, quantile95L, label=nothing, color=:red)\n",
    "plot!(storedTimes, quantile95U, label=nothing, color=:red)"
   ]
  },
  {
   "cell_type": "code",
   "execution_count": null,
   "id": "59fc7143",
   "metadata": {},
   "outputs": [],
   "source": [
    "saverage_trajectory = mean(trajectories, dims=2)\n",
    "savg = vec(saverage_trajectory)"
   ]
  },
  {
   "cell_type": "code",
   "execution_count": null,
   "id": "d8865dc0",
   "metadata": {},
   "outputs": [],
   "source": [
    "fill50=plot(storedTimes,quantile50L,fillrange=quantile50U, fillalpha=0.75, fillcolor=:orange,color=:orange, label=nothing)\n",
    "fill95=plot(storedTimes,quantile95L,fillrange=quantile95U, fillalpha=1.0, fillcolor=:orange,color=:orange, label=nothing)\n",
    "\n",
    "p4=plot(fill50)\n",
    "p4=plot!(fill95)\n",
    "p4=plot!(storedTimes,accm, label =\"experiment\", linewidth=1.5, color=:blue)\n",
    "p4=plot!(storedTimes, savg, label=\"calibrated\", linestyle=:dash, linewidth=2, color=:red)\n",
    "xlabel!(\"Time\")\n",
    "ylabel!(\"Acceleration\")\n",
    "#savefig(\"calibrated_lognormal_m3k1_graph.png\")"
   ]
  },
  {
   "cell_type": "code",
   "execution_count": null,
   "id": "2353bb79",
   "metadata": {},
   "outputs": [],
   "source": [
    "seedNum=1000\n",
    "function predictiveAssessment(enriched, observed; alpha =0.05)\n",
    "    numObs = length(observed)\n",
    "    gammas = zeros(numObs)\n",
    "    numSamples = (size(enriched)[2])\n",
    "    Random.seed!(seedNum)\n",
    "    numObsError = 100\n",
    "    \n",
    "    predictions = zeros(numSamples, numObs)\n",
    "\n",
    "    postPred = zeros(numObs, numSamples*numObsError)\n",
    "    \n",
    "    for j in 1:numObs      \n",
    "        for k in 1:numSamples\n",
    "            mu = enriched[j,k]\n",
    "            postPred[j,(k-1)*numObsError+1:(k-1)*numObsError+numObsError]= rand(Normal(mu,0.1),numObsError)\n",
    "        end\n",
    "        density = kde(postPred[j,:])\n",
    "        ik=InterpKDE(density)\n",
    "        minf = minimum(postPred[j,:])\n",
    "        maxf = maximum(postPred[j,:])\n",
    "        xs = LinRange(minf,maxf,200)\n",
    "        fpdf = pdf(ik,xs)\n",
    "        fpdfLen = length(fpdf)\n",
    "        pofy=pdf(ik,observed[j])\n",
    "            \n",
    "        for l in 1:fpdfLen\n",
    "            if fpdf[l]>pofy\n",
    "                fpdf[l]=0.\n",
    "            end\n",
    "        end\n",
    "        gamma = -trapz(fpdf,xs)\n",
    "        gammas[j]=gamma\n",
    "    end\n",
    "    return gammas, postPred\n",
    "    \n",
    "end\n",
    "\n",
    "function fractionGamma(gamma;alpha=0.05)\n",
    "    numObs = length(gamma)\n",
    "    tau = alpha/numObs\n",
    "    count = 0\n",
    "    for i in 1:numObs\n",
    "        if gamma[i]<tau\n",
    "            count+=1\n",
    "        end\n",
    "    end\n",
    "    count/numObs\n",
    "end"
   ]
  },
  {
   "cell_type": "code",
   "execution_count": null,
   "id": "b260b94d",
   "metadata": {},
   "outputs": [],
   "source": [
    "Gs=predictiveAssessment(trajectories,accm)"
   ]
  },
  {
   "cell_type": "code",
   "execution_count": null,
   "id": "cbefcd1c",
   "metadata": {},
   "outputs": [],
   "source": [
    "GammaVals = Gs[1]\n",
    "posteriors=Gs[2]"
   ]
  },
  {
   "cell_type": "code",
   "execution_count": null,
   "id": "01acdb8d",
   "metadata": {},
   "outputs": [],
   "source": [
    "fractionGamma(GammaVals)"
   ]
  },
  {
   "cell_type": "code",
   "execution_count": null,
   "id": "ce0fca68",
   "metadata": {},
   "outputs": [],
   "source": [
    "ytrajectoriesInad = [MCMC_resultsInad[i] for i in 1:nTrajInad]\n",
    "trajectoriesInad = hcat(ytrajectoriesInad...)\n",
    "\n",
    "quantile_dataInad = mapslices(data -> computeQuantiles(data, quantilesToPlot), trajectoriesInad, dims=2)\n",
    "\n",
    "quantile50LInad = quantile_dataInad[:, 1]\n",
    "quantile50UInad = quantile_dataInad[:, 2]\n",
    "quantile95LInad = quantile_dataInad[:, 3]\n",
    "quantile95UInad = quantile_dataInad[:, 4]\n",
    "\n",
    "plot(storedTimes, quantile50LInad, label=nothing, color=:blue)\n",
    "plot!(storedTimes, quantile50UInad, label=nothing, color=:blue)\n",
    "plot!(storedTimes, quantile95LInad, label=nothing, color=:red)\n",
    "plot!(storedTimes, quantile95UInad, label=nothing, color=:red)"
   ]
  },
  {
   "cell_type": "code",
   "execution_count": null,
   "id": "dde4451c",
   "metadata": {},
   "outputs": [],
   "source": [
    "average_trajectoryInad = mean(trajectoriesInad, dims=2)\n",
    "avgInad = vec(average_trajectoryInad)"
   ]
  },
  {
   "cell_type": "code",
   "execution_count": null,
   "id": "750ec97f",
   "metadata": {},
   "outputs": [],
   "source": [
    "fill50Inad=plot(storedTimes,quantile50LInad,fillrange=quantile50UInad, fillalpha=0.75, fillcolor=:orange,color=:orange, label=nothing)\n",
    "fill95Inad=plot(storedTimes,quantile95LInad,fillrange=quantile95UInad, fillalpha=1.0, fillcolor=:orange,color=:orange, label=nothing)\n",
    "\n",
    "p3=plot(fill50Inad)\n",
    "p3=plot!(fill95Inad)\n",
    "p3=plot!(storedTimes,accm, label =\"experiment\", linewidth=1.5, color=:blue)\n",
    "p3=plot!(storedTimes, avgInad, label=\"enriched\", linestyle=:dash, linewidth=2, color=:red)\n",
    "xlabel!(\"Time\")\n",
    "ylabel!(\"Acceleration\")\n",
    "#savefig(\"enriched_lognormal_m3k1_graph.png\")"
   ]
  },
  {
   "cell_type": "code",
   "execution_count": null,
   "id": "904f5c5d",
   "metadata": {},
   "outputs": [],
   "source": [
    "GsInad=predictiveAssessment(trajectoriesInad,accm)"
   ]
  },
  {
   "cell_type": "code",
   "execution_count": null,
   "id": "79560fbc",
   "metadata": {},
   "outputs": [],
   "source": [
    "GammaValsInad = GsInad[1]\n",
    "posteriorsInad=GsInad[2]"
   ]
  },
  {
   "cell_type": "code",
   "execution_count": null,
   "id": "5070458b",
   "metadata": {},
   "outputs": [],
   "source": [
    "fractionGamma(GammaValsInad)"
   ]
  },
  {
   "cell_type": "code",
   "execution_count": null,
   "id": "e8b604c8",
   "metadata": {},
   "outputs": [],
   "source": []
  },
  {
   "cell_type": "code",
   "execution_count": null,
   "id": "8e7c0c5b",
   "metadata": {},
   "outputs": [],
   "source": []
  }
 ],
 "metadata": {
  "kernelspec": {
   "display_name": "Julia 1.10.3",
   "language": "julia",
   "name": "julia-1.10"
  },
  "language_info": {
   "file_extension": ".jl",
   "mimetype": "application/julia",
   "name": "julia",
   "version": "1.10.3"
  }
 },
 "nbformat": 4,
 "nbformat_minor": 5
}
